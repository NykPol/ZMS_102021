{
 "cells": [
  {
   "cell_type": "markdown",
   "metadata": {},
   "source": [
    "# Intro to Julia and Jupyter"
   ]
  },
  {
   "cell_type": "markdown",
   "metadata": {},
   "source": [
    "## 1.Quick Jupyter Notebook guide"
   ]
  },
  {
   "cell_type": "markdown",
   "metadata": {},
   "source": [
    "Use **Arrow keys** to move up and down\n",
    "***"
   ]
  },
  {
   "cell_type": "markdown",
   "metadata": {},
   "source": [
    "Use **Enter** to activate cell and **ESC** to deactivate it\n",
    "***"
   ]
  },
  {
   "cell_type": "markdown",
   "metadata": {
    "raw_mimetype": "text/latex"
   },
   "source": [
    "Use **CTRL+Enter** to execute cell (interpret Markdown or Python code)\n",
    "***"
   ]
  },
  {
   "cell_type": "markdown",
   "metadata": {},
   "source": [
    "While cell is deactivated (you are in Command mode) use **M** to turn cell into Markdown or **Y** to switch to Python\n",
    "___"
   ]
  },
  {
   "cell_type": "markdown",
   "metadata": {},
   "source": [
    "**a** adds cell above and **b** adds cell below (**ALT+Enter** execute and insert below)\n",
    "___"
   ]
  },
  {
   "cell_type": "markdown",
   "metadata": {},
   "source": [
    "Delete cell using **dd**\n",
    "___"
   ]
  },
  {
   "cell_type": "markdown",
   "metadata": {},
   "source": [
    "More shortcuts will pop up after pressing **H**"
   ]
  },
  {
   "cell_type": "markdown",
   "metadata": {},
   "source": [
    "## 2.Markdown guide"
   ]
  },
  {
   "cell_type": "markdown",
   "metadata": {},
   "source": [
    "[Markdown Cheatsheet](https://github.com/adam-p/markdown-here/wiki/Markdown-Cheatsheet)"
   ]
  },
  {
   "cell_type": "markdown",
   "metadata": {},
   "source": [
    "### Julia introduction"
   ]
  },
  {
   "cell_type": "markdown",
   "metadata": {},
   "source": [
    "Based on: \n",
    "- Julia express http://bogumilkaminski.pl/files/julia_express.pdf\n",
    "- Presentation by dr Szufel"
   ]
  },
  {
   "cell_type": "markdown",
   "metadata": {},
   "source": [
    "## Key features of Julia"
   ]
  },
  {
   "cell_type": "markdown",
   "metadata": {},
   "source": [
    "- **Performance** : Dynamically compiled to optimized native machine code\n",
    "\n",
    "- **Scalability** : build in support for High Performance Computing  (SIMD, Threading, Distributed computing)\n",
    "\n",
    "- **Modern design of the language** : multiple dispatch, metaprogramming (code genration), type system\n",
    "\n",
    "- **MIT License** : corporate-use friendly (also package ecosystem)\n",
    "\n",
    "- **Integration with other popular languages** : R and Python can be called from Julia"
   ]
  },
  {
   "cell_type": "markdown",
   "metadata": {},
   "source": [
    "### Performance"
   ]
  },
  {
   "cell_type": "code",
   "execution_count": null,
   "metadata": {},
   "outputs": [],
   "source": [
    "my_arr = Vector{Float64}();\n",
    "@time for aaa in 1:100000000\n",
    "    push!(my_arr,((aaa^2)/2)^3)\n",
    "end\n",
    "# Julia is 7x faster than Python on this example.\n"
   ]
  },
  {
   "cell_type": "markdown",
   "metadata": {},
   "source": [
    "### Scalability"
   ]
  },
  {
   "cell_type": "code",
   "execution_count": null,
   "metadata": {},
   "outputs": [],
   "source": [
    "#console: ] BenchmarkTools\n",
    "#Julia code: Pkg.add(\"BenchmarkTools\");"
   ]
  },
  {
   "cell_type": "code",
   "execution_count": null,
   "metadata": {
    "scrolled": true
   },
   "outputs": [],
   "source": [
    "using BenchmarkTools;"
   ]
  },
  {
   "cell_type": "markdown",
   "metadata": {},
   "source": [
    "Single instruction, multiple data (SIMD) is a class of parallel computing. It describes processors with multiple processing elements that perform the same operation on multiple data points simultaneously.\n",
    "[Wiki](https://en.wikipedia.org/wiki/SIMD)\n",
    "\n",
    "<img src=\"https://upload.wikimedia.org/wikipedia/commons/thumb/c/ce/SIMD2.svg/1200px-SIMD2.svg.png\" alt=\"SIMD\" width=\"200px\">"
   ]
  },
  {
   "cell_type": "code",
   "execution_count": null,
   "metadata": {},
   "outputs": [],
   "source": [
    "#Scalability\n",
    "function dot1(x, y)\n",
    "    s = 0.0\n",
    "    for i in 1:length(x)\n",
    "        @inbounds s += x[i]*y[i]\n",
    "    end\n",
    "    s\n",
    "end\n",
    "\n",
    "#Just adding one macro @simd\n",
    "function dot2(x, y)\n",
    "    s = 0.0\n",
    "    @simd for i in 1:length(x)\n",
    "        @inbounds s += x[i]*y[i]\n",
    "    end\n",
    "    s\n",
    "end"
   ]
  },
  {
   "cell_type": "code",
   "execution_count": null,
   "metadata": {
    "scrolled": true
   },
   "outputs": [],
   "source": [
    "@btime dot1(ones(10000),ones(10000))"
   ]
  },
  {
   "cell_type": "code",
   "execution_count": null,
   "metadata": {
    "scrolled": true
   },
   "outputs": [],
   "source": [
    "@btime dot2(ones(10000),ones(10000))"
   ]
  },
  {
   "cell_type": "markdown",
   "metadata": {},
   "source": [
    "### Modern design"
   ]
  },
  {
   "cell_type": "code",
   "execution_count": null,
   "metadata": {
    "scrolled": false
   },
   "outputs": [],
   "source": [
    "##Multiple dispatch\n",
    "f(x::Int64) = println(\"This must be some integer\");\n",
    "f(x::Float64) = println(\"This must be a float\");"
   ]
  },
  {
   "cell_type": "code",
   "execution_count": null,
   "metadata": {
    "scrolled": true
   },
   "outputs": [],
   "source": [
    "f(3)\n",
    "f(3.14)"
   ]
  },
  {
   "cell_type": "code",
   "execution_count": null,
   "metadata": {
    "scrolled": true
   },
   "outputs": [],
   "source": [
    "##Unicode support\n",
    "#\\pi + TAB\n",
    "println(π)\n",
    "#\\infty + TAB\n",
    "println(\"∞\")\n",
    "#\\:cat: + TAB\n",
    "print(\"🐱\")"
   ]
  },
  {
   "cell_type": "code",
   "execution_count": null,
   "metadata": {
    "scrolled": false
   },
   "outputs": [],
   "source": [
    "🍣 = 2; 🎅 = 4\n",
    "🎅*🍣"
   ]
  },
  {
   "cell_type": "code",
   "execution_count": null,
   "metadata": {},
   "outputs": [],
   "source": [
    "#What was first egg or chicken?\n",
    "'🍳'< '🐔'"
   ]
  },
  {
   "cell_type": "markdown",
   "metadata": {},
   "source": [
    "## Julia basics"
   ]
  },
  {
   "cell_type": "markdown",
   "metadata": {},
   "source": [
    "Running julia invokes an interactive (REPL)mode. In thismode some useful commands are:\n",
    "\n",
    "1. ^D (exits Julia);\n",
    "\n",
    "2. ^C (interrupts computations);\n",
    "\n",
    "3. ? (enters help mode);\n",
    "\n",
    "4. ; (enters system shell mode);\n",
    "\n",
    "5. ] (enters package managermode);\n",
    "\n",
    "6. Ctrl-l clears screen;\n",
    "\n",
    "7. putting ; after the expression will disable showing its value in REPL (not needed in scripts)."
   ]
  },
  {
   "cell_type": "code",
   "execution_count": null,
   "metadata": {},
   "outputs": [],
   "source": [
    "?len #no such function, but there are other similar"
   ]
  },
  {
   "cell_type": "code",
   "execution_count": null,
   "metadata": {
    "scrolled": true
   },
   "outputs": [],
   "source": [
    "?length"
   ]
  },
  {
   "cell_type": "markdown",
   "metadata": {},
   "source": [
    "### Types"
   ]
  },
  {
   "cell_type": "code",
   "execution_count": null,
   "metadata": {
    "scrolled": true
   },
   "outputs": [],
   "source": [
    "1::Int # 64 bit integer on 64 bit Julia\n",
    "1.0::Float64 # 64 bit float, defines NaN, -Inf, Inf\n",
    "true::Bool # boolean, allows \"true\" and \"false\"\n",
    "'c'::Char # character, allows Unicode\n",
    "\"s\"::AbstractString # strings, allows Unicode, consists of characters"
   ]
  },
  {
   "cell_type": "code",
   "execution_count": null,
   "metadata": {},
   "outputs": [],
   "source": [
    "typeof(-Inf)"
   ]
  },
  {
   "cell_type": "code",
   "execution_count": null,
   "metadata": {
    "scrolled": true
   },
   "outputs": [],
   "source": [
    "Char('🍣') #sushi is also a character"
   ]
  },
  {
   "cell_type": "code",
   "execution_count": null,
   "metadata": {
    "scrolled": true
   },
   "outputs": [],
   "source": [
    "Char(\"🍣\") #string can't be converted to character"
   ]
  },
  {
   "cell_type": "code",
   "execution_count": null,
   "metadata": {},
   "outputs": [],
   "source": [
    "Char(\"🍣\"[1])"
   ]
  },
  {
   "cell_type": "code",
   "execution_count": null,
   "metadata": {},
   "outputs": [],
   "source": [
    "Int('🍳')"
   ]
  },
  {
   "cell_type": "code",
   "execution_count": null,
   "metadata": {},
   "outputs": [],
   "source": [
    "Int('🐔')"
   ]
  },
  {
   "cell_type": "code",
   "execution_count": null,
   "metadata": {
    "scrolled": false
   },
   "outputs": [],
   "source": [
    "Char(127859)"
   ]
  },
  {
   "cell_type": "markdown",
   "metadata": {},
   "source": [
    "More on strings and characters in Julia:\n",
    "https://docs.julialang.org/en/v1/manual/strings/"
   ]
  },
  {
   "cell_type": "markdown",
   "metadata": {},
   "source": [
    "**More on conversion**"
   ]
  },
  {
   "cell_type": "code",
   "execution_count": null,
   "metadata": {},
   "outputs": [],
   "source": [
    "Int64('a') # character to integer ASCII"
   ]
  },
  {
   "cell_type": "code",
   "execution_count": null,
   "metadata": {
    "scrolled": false
   },
   "outputs": [],
   "source": [
    "Int64(1.3) # inexact error"
   ]
  },
  {
   "cell_type": "code",
   "execution_count": null,
   "metadata": {},
   "outputs": [],
   "source": [
    "println(\"a\")"
   ]
  },
  {
   "cell_type": "code",
   "execution_count": null,
   "metadata": {
    "scrolled": false
   },
   "outputs": [],
   "source": [
    "\n",
    "# string can take more than one argument and concatenate them\n",
    "println(string(1,true))"
   ]
  },
  {
   "cell_type": "code",
   "execution_count": null,
   "metadata": {},
   "outputs": [],
   "source": [
    "#General conversion can be done using convert(Type, x)\n",
    "convert(Int64, 1.0)"
   ]
  },
  {
   "cell_type": "code",
   "execution_count": null,
   "metadata": {
    "scrolled": true
   },
   "outputs": [],
   "source": [
    "subtypes(Real)"
   ]
  },
  {
   "cell_type": "markdown",
   "metadata": {},
   "source": [
    "**Numeric types in Julia**\n",
    "\n",
    "<img src=\"https://upload.wikimedia.org/wikipedia/commons/d/d9/Julia-number-type-hierarchy.svg\" alt=\"Numeric types\" width=\"1000px\"> "
   ]
  },
  {
   "cell_type": "code",
   "execution_count": null,
   "metadata": {},
   "outputs": [],
   "source": [
    "#Macro to print results nicely\n",
    "macro print(func)\n",
    "    println(func,\" : \",eval(func))\n",
    "end"
   ]
  },
  {
   "cell_type": "code",
   "execution_count": null,
   "metadata": {},
   "outputs": [],
   "source": [
    "@print isa(1, Float64) # false, integer is not a float\n",
    "@print isa(1.0, Float64) # true"
   ]
  },
  {
   "cell_type": "markdown",
   "metadata": {},
   "source": [
    "**Special types**"
   ]
  },
  {
   "cell_type": "code",
   "execution_count": null,
   "metadata": {},
   "outputs": [],
   "source": [
    "@print Any # all objects are of this type\n",
    "@print Union{} # subtype of all types, no object can have this type\n",
    "@print Nothing # type indicating nothing (absence of a value), a subtype of Any\n",
    "show(nothing) # only instance of Nothing\n",
    "@print Missing # type indicating missing value (a value exists but is unknown), a subtype of Any\n",
    "@print missing # only instance of Missing"
   ]
  },
  {
   "cell_type": "code",
   "execution_count": null,
   "metadata": {
    "scrolled": true
   },
   "outputs": [],
   "source": [
    "isa('🍍',Any)"
   ]
  },
  {
   "cell_type": "code",
   "execution_count": null,
   "metadata": {
    "scrolled": true
   },
   "outputs": [],
   "source": [
    "isa.([4,3.14,\"ala\"],Union{Int,Float64}) #. (dot) is a broadcast operator explained later"
   ]
  },
  {
   "cell_type": "markdown",
   "metadata": {},
   "source": [
    "**Tuples and named tuples**"
   ]
  },
  {
   "cell_type": "code",
   "execution_count": null,
   "metadata": {},
   "outputs": [],
   "source": [
    "print((),\" \",typeof(())) # empty tuple"
   ]
  },
  {
   "cell_type": "code",
   "execution_count": null,
   "metadata": {
    "scrolled": true
   },
   "outputs": [],
   "source": [
    "println((1,)) #one element tuple\n",
    "println((\"ZMS\",3))\n",
    "x = (1, 2, 3)\n",
    "print(x[1])\n",
    "x[1]=1 #immutable"
   ]
  },
  {
   "cell_type": "code",
   "execution_count": null,
   "metadata": {
    "scrolled": false
   },
   "outputs": [],
   "source": [
    "#Unpacking (partial)\n",
    "a,b=x\n",
    "print(\"a is \",a,\" and b is \",b)"
   ]
  },
  {
   "cell_type": "code",
   "execution_count": null,
   "metadata": {
    "scrolled": true
   },
   "outputs": [],
   "source": [
    "#Named tuple\n",
    "x2=(course=\"ZMS\",average_grade=3)\n",
    "println(x2)\n",
    "print(x2.average_grade)"
   ]
  },
  {
   "cell_type": "markdown",
   "metadata": {},
   "source": [
    "**Arrays**"
   ]
  },
  {
   "cell_type": "code",
   "execution_count": null,
   "metadata": {
    "scrolled": true
   },
   "outputs": [],
   "source": [
    "#Array of Ints (undefined) - random numbers\n",
    "Array{Int}(undef, 2, 3)"
   ]
  },
  {
   "cell_type": "code",
   "execution_count": null,
   "metadata": {
    "scrolled": true
   },
   "outputs": [],
   "source": [
    "@print zeros(5)\n",
    "@print ones(5)\n",
    "@print ones(Int64, 2, 2)"
   ]
  },
  {
   "cell_type": "code",
   "execution_count": null,
   "metadata": {
    "scrolled": true
   },
   "outputs": [],
   "source": [
    "ones(Int64, 2, 2)"
   ]
  },
  {
   "cell_type": "code",
   "execution_count": null,
   "metadata": {
    "scrolled": true
   },
   "outputs": [],
   "source": [
    "@print 1:10\n",
    "@print collect(1:10)"
   ]
  },
  {
   "cell_type": "code",
   "execution_count": null,
   "metadata": {},
   "outputs": [],
   "source": [
    "#Vectors (1-dim arrays)\n",
    "# a vector with one element (not a scalar)\n",
    "[1]"
   ]
  },
  {
   "cell_type": "code",
   "execution_count": null,
   "metadata": {
    "scrolled": true
   },
   "outputs": [],
   "source": [
    "# a comprehension generating 2x3 array - similar to Python\n",
    "[x * y for x in 1:2, y in 1:3]"
   ]
  },
  {
   "cell_type": "code",
   "execution_count": null,
   "metadata": {
    "scrolled": true
   },
   "outputs": [],
   "source": [
    "#This is 1x2 matrix\n",
    "[1 2]"
   ]
  },
  {
   "cell_type": "code",
   "execution_count": null,
   "metadata": {
    "scrolled": true
   },
   "outputs": [],
   "source": [
    "#This is 2-element vector\n",
    "[1, 2] #[1;2]"
   ]
  },
  {
   "cell_type": "code",
   "execution_count": null,
   "metadata": {
    "scrolled": true
   },
   "outputs": [],
   "source": [
    "#Arrays utility functions\n",
    "a = [1 2;3 4]"
   ]
  },
  {
   "cell_type": "code",
   "execution_count": null,
   "metadata": {},
   "outputs": [],
   "source": [
    "@print ndims(a) # number of dimensions in a\n",
    "@print eltype(a) # type of elements in a\n",
    "@print length(a) # number of elements in a\n",
    "@print size(a) # a tuple containing dimension sizes of a\n",
    "@print vec(a) # cast an array to vector (single dimension)"
   ]
  },
  {
   "cell_type": "code",
   "execution_count": null,
   "metadata": {
    "scrolled": true
   },
   "outputs": [],
   "source": [
    "a = 0:0.01:1 # range with step 0.01\n",
    "@print a[1] # get scalar 0.0\n",
    "@print a[end] # get scalar 1.0 (last position)\n",
    "@print a[1:2:end] # every second element from range - collect() to get vector\n",
    "@print a[[1, 3, 6]] # 1st, 3rd and 6th element of a, Array{Float64,1}\n",
    "@print lastindex(a) # last index of the collection a; similarly firstindex"
   ]
  },
  {
   "cell_type": "code",
   "execution_count": null,
   "metadata": {},
   "outputs": [],
   "source": [
    "#Passing by reference and copies\n",
    "x = Array{Any}(undef, 2)\n",
    "x[1] = ones(2)\n",
    "x[2] = trues(3)"
   ]
  },
  {
   "cell_type": "code",
   "execution_count": null,
   "metadata": {},
   "outputs": [],
   "source": [
    "x"
   ]
  },
  {
   "cell_type": "code",
   "execution_count": null,
   "metadata": {},
   "outputs": [],
   "source": [
    "a = x\n",
    "b = copy(x) # shallow copy\n",
    "c = deepcopy(x) # deep copy"
   ]
  },
  {
   "cell_type": "code",
   "execution_count": null,
   "metadata": {},
   "outputs": [],
   "source": [
    "x[1] = \"Big\"\n",
    "x[2][1] = false"
   ]
  },
  {
   "cell_type": "code",
   "execution_count": null,
   "metadata": {},
   "outputs": [],
   "source": [
    "@print x\n",
    "@print a # identical as x\n",
    "@print b # subobjects still changed (shallow copy)\n",
    "@print c #totally separate object"
   ]
  },
  {
   "cell_type": "markdown",
   "metadata": {},
   "source": [
    "**Dictionaries**"
   ]
  },
  {
   "cell_type": "code",
   "execution_count": null,
   "metadata": {
    "scrolled": true
   },
   "outputs": [],
   "source": [
    "x = Dict{Float64, Int64}() # an empty dictionary mapping floats to integers\n",
    "y = Dict(\"a\"=>1, \"b\"=>2) # a filled dictionary\n",
    "@print y[\"a\"] # element retrieval\n",
    "y[\"c\"] = 3 # added element\n",
    "@print haskey(y, \"b\") # check if y contains key \"b\"\n",
    "@print keys(y), values(y) # tuple of collections returning keys and values in y\n",
    "delete!(y, \"b\") # delete a key from a collection, see also: pop!\n",
    "@print get(y,\"c\",\"default\") # return y[\"c\"] or \"default\" if not haskey(y,\"c\")"
   ]
  },
  {
   "cell_type": "markdown",
   "metadata": {},
   "source": [
    "**String operations**"
   ]
  },
  {
   "cell_type": "code",
   "execution_count": null,
   "metadata": {
    "scrolled": false
   },
   "outputs": [],
   "source": [
    "@print \"Hi \" * \"there!\" # string concatenation\n",
    "@print \"Ho \" ^ 3 # repeat string\n",
    "@print string(\"a = \", 123.3) # create using print function\n",
    "@print occursin(\"CD\", \"ABCD\") # check if first string contains second\n",
    "println(\"\\\"\\n\\t\\$\") # C-like escaping in strings, new \\$ escape\n",
    "x = 123\n",
    "println(\"$x + 3 = $(x+3)\") # unescaped $ is used for interpolation\n",
    "name = \"ALa\"\n",
    "println(\"My name is $name.\")\n",
    "println(\"\\$199\") # to get a $ symbol you must escape it\n",
    "println(raw\"D:\\path\") # a raw string literal; useful for paths under Windows"
   ]
  },
  {
   "cell_type": "markdown",
   "metadata": {},
   "source": [
    "**Programming Constructs**"
   ]
  },
  {
   "cell_type": "code",
   "execution_count": null,
   "metadata": {
    "scrolled": true
   },
   "outputs": [],
   "source": [
    "#Compund expressions\n",
    "x = (a = 1; 2 * a) # after: x = 2; a = 1\n",
    "y = begin\n",
    "    b = 3\n",
    "    3 * b\n",
    "end # after: y = 9; b = 3\n",
    "@print x\n",
    "@print a\n",
    "@print y\n",
    "@print b"
   ]
  },
  {
   "cell_type": "code",
   "execution_count": null,
   "metadata": {},
   "outputs": [],
   "source": [
    "if false # if clause requires Bool test\n",
    "    z = 1\n",
    "elseif 1 == 2\n",
    "    z = 2\n",
    "else\n",
    "    a = 3\n",
    "end # after this a = 3 and z is undefined\n",
    "@print a"
   ]
  },
  {
   "cell_type": "code",
   "execution_count": null,
   "metadata": {
    "scrolled": true
   },
   "outputs": [],
   "source": [
    "1==2 ? \"A\" : \"B\" # standard ternary operator\n",
    "#condition ? if_true : if_false"
   ]
  },
  {
   "cell_type": "code",
   "execution_count": null,
   "metadata": {},
   "outputs": [],
   "source": [
    "#for loop\n",
    "for x in 1:10 # x in collection, can also use = here instead of in\n",
    "    if 1 < x < 10\n",
    "        continue # skip one iteration\n",
    "    end\n",
    "    println(x)\n",
    "end"
   ]
  },
  {
   "cell_type": "code",
   "execution_count": null,
   "metadata": {},
   "outputs": [],
   "source": [
    "function f1(x, y=10) # f(x, y = 10) = x + y\n",
    "    x + y \n",
    "end\n",
    "@print f1(3,2)\n",
    "@print f1(3)"
   ]
  },
  {
   "cell_type": "code",
   "execution_count": null,
   "metadata": {
    "scrolled": true
   },
   "outputs": [],
   "source": [
    "(x -> x^2)(3) # an anonymous function with a call example (lambda in Python)"
   ]
  },
  {
   "cell_type": "code",
   "execution_count": null,
   "metadata": {
    "scrolled": true
   },
   "outputs": [],
   "source": [
    "#Multiple methods/ multiple disptach\n",
    "methods(f1)"
   ]
  },
  {
   "cell_type": "markdown",
   "metadata": {},
   "source": [
    "**Broadcast operator**"
   ]
  },
  {
   "cell_type": "code",
   "execution_count": null,
   "metadata": {
    "scrolled": true
   },
   "outputs": [],
   "source": [
    "@print true || false # binary or operator (singletons only), || and && use short-circut evaluation\n",
    "@print 1 < 2 < 3 # chaining conditions is OK (singletons only without .)\n",
    "@print [1 2] .< [2 1] # for vectorized operators need to add '.' in front"
   ]
  },
  {
   "cell_type": "code",
   "execution_count": null,
   "metadata": {
    "scrolled": true
   },
   "outputs": [],
   "source": [
    "x = [1 2 3]\n",
    "# multiplication can be omitted between a literal and a variable or a left parenthesis\n",
    "@print 2x + 2(x .+ 1)"
   ]
  },
  {
   "cell_type": "code",
   "execution_count": null,
   "metadata": {},
   "outputs": [],
   "source": [
    "y = [1, 2, 3]\n",
    "@print x .+ y # a 3x3 matrix, dimension broadcasting\n",
    "@print x + y' # a 1x3 matrix\n",
    "@print x * y # array multiplication, a 1-element vector (not scalar)\n",
    "@print x .* y # element-wise multiplication, a 3x3 array"
   ]
  },
  {
   "cell_type": "code",
   "execution_count": null,
   "metadata": {
    "scrolled": false
   },
   "outputs": [],
   "source": [
    "@print x == [1 2 3] # true, object looks the same, by value"
   ]
  },
  {
   "cell_type": "markdown",
   "metadata": {},
   "source": [
    "**Random numbers**"
   ]
  },
  {
   "cell_type": "code",
   "execution_count": null,
   "metadata": {},
   "outputs": [],
   "source": [
    "using Random"
   ]
  },
  {
   "cell_type": "code",
   "execution_count": null,
   "metadata": {
    "scrolled": true
   },
   "outputs": [],
   "source": [
    "Random.seed!(1) # set random number generator seed to 1; needs calling first: using Random\n",
    "@print rand() # generate random number from U[0,1)\n",
    "@print rand(2, 3) # generate 2x3 matrix of random numbers from U[0,1]\n",
    "@print rand(2:5, 10) # generate vector of 10 random integer numbers in range form 2 to 5\n",
    "@print randn(10) # generate vector of 10 random numbers from standard normal distribution"
   ]
  },
  {
   "cell_type": "markdown",
   "metadata": {},
   "source": [
    "**Statistics and machine learning**\n",
    "\n",
    "Visit http://juliastats.github.io/ for the details (in particular R-like data frames)."
   ]
  },
  {
   "cell_type": "markdown",
   "metadata": {},
   "source": [
    "**Tabular data**"
   ]
  },
  {
   "cell_type": "code",
   "execution_count": null,
   "metadata": {
    "scrolled": true
   },
   "outputs": [],
   "source": [
    ";curl -o iris.csv \"https://raw.githubusercontent.com/uiuc-cse/data-fa14/gh-pages/data/iris.csv\""
   ]
  },
  {
   "cell_type": "code",
   "execution_count": null,
   "metadata": {
    "scrolled": true
   },
   "outputs": [],
   "source": [
    "using DataFrames;\n",
    "using CSV;\n",
    "\n",
    "df = DataFrame(CSV.File(\"./iris.csv\"));\n",
    "first(df, 5) # print first 5 rows of a data frame; use the last function for last rows"
   ]
  },
  {
   "cell_type": "markdown",
   "metadata": {},
   "source": [
    "**Plotting**"
   ]
  },
  {
   "cell_type": "code",
   "execution_count": null,
   "metadata": {},
   "outputs": [],
   "source": [
    "Pkg.add(\"PyPlot\")"
   ]
  },
  {
   "cell_type": "code",
   "execution_count": null,
   "metadata": {},
   "outputs": [],
   "source": [
    "using PyPlot\n",
    "using Random\n",
    "Random.seed!(1) # make the plot reproducible\n",
    "x, y = randn(100), randn(100)\n",
    "scatter(x, y);"
   ]
  },
  {
   "cell_type": "code",
   "execution_count": null,
   "metadata": {},
   "outputs": [],
   "source": [
    "Pkg.add(\"Distributions\")"
   ]
  },
  {
   "cell_type": "code",
   "execution_count": null,
   "metadata": {},
   "outputs": [],
   "source": [
    "using Distributions\n",
    "using PyPlot\n",
    "mu, sigma = 100, 15\n",
    "x = mu .+ sigma * randn(10000)\n",
    "n, bins, patches = plt.hist(x, 50, density=1,\n",
    "    facecolor=\"green\", alpha=0.75)\n",
    "\n",
    "y = pdf.(Ref(Normal(mu, sigma)), bins);\n",
    "plot(bins, y, \"r--\", linewidth=1)\n",
    "\n",
    "xlabel(\"Smarts\")\n",
    "ylabel(\"Probability\")\n",
    "title(raw\"$\\mathrm{Histogram\\ of\\ IQ:}\\ \\mu=100,\\ \\sigma=15$\")\n",
    "axis([40, 160,0, 0.03])\n",
    "grid(true)"
   ]
  }
 ],
 "metadata": {
  "interpreter": {
   "hash": "40d3a090f54c6569ab1632332b64b2c03c39dcf918b08424e98f38b5ae0af88f"
  },
  "kernelspec": {
   "display_name": "Julia 1.6.2",
   "language": "julia",
   "name": "julia-1.6"
  },
  "language_info": {
   "file_extension": ".jl",
   "mimetype": "application/julia",
   "name": "julia",
   "version": "1.6.2"
  },
  "toc": {
   "base_numbering": 1,
   "nav_menu": {},
   "number_sections": false,
   "sideBar": true,
   "skip_h1_title": false,
   "title_cell": "Table of Contents",
   "title_sidebar": "Contents",
   "toc_cell": false,
   "toc_position": {
    "height": "calc(100% - 180px)",
    "left": "10px",
    "top": "150px",
    "width": "384px"
   },
   "toc_section_display": true,
   "toc_window_display": false
  }
 },
 "nbformat": 4,
 "nbformat_minor": 2
}
